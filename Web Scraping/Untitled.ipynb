{
 "cells": [
  {
   "cell_type": "code",
   "execution_count": 4,
   "metadata": {},
   "outputs": [
    {
     "ename": "NameError",
     "evalue": "name 'urllib2' is not defined",
     "output_type": "error",
     "traceback": [
      "\u001b[0;31m---------------------------------------------------------------------------\u001b[0m",
      "\u001b[0;31mNameError\u001b[0m                                 Traceback (most recent call last)",
      "\u001b[0;32m<ipython-input-4-fa50e858fdee>\u001b[0m in \u001b[0;36m<module>\u001b[0;34m()\u001b[0m\n\u001b[1;32m     10\u001b[0m \u001b[0mwiki\u001b[0m \u001b[0;34m=\u001b[0m \u001b[0;34m\"https://en.wikipedia.org/wiki/International_Phonetic_Alphabet_chart_for_English_dialects\"\u001b[0m\u001b[0;34m\u001b[0m\u001b[0m\n\u001b[1;32m     11\u001b[0m \u001b[0mheader\u001b[0m \u001b[0;34m=\u001b[0m \u001b[0;34m{\u001b[0m\u001b[0;34m'User-Agent'\u001b[0m\u001b[0;34m:\u001b[0m \u001b[0;34m'Mozilla/5.0'\u001b[0m\u001b[0;34m}\u001b[0m \u001b[0;31m#Needed to prevent 403 error on Wikipedia\u001b[0m\u001b[0;34m\u001b[0m\u001b[0m\n\u001b[0;32m---> 12\u001b[0;31m \u001b[0mreq\u001b[0m \u001b[0;34m=\u001b[0m \u001b[0murllib2\u001b[0m\u001b[0;34m.\u001b[0m\u001b[0mRequest\u001b[0m\u001b[0;34m(\u001b[0m\u001b[0mwiki\u001b[0m\u001b[0;34m,\u001b[0m\u001b[0mheaders\u001b[0m\u001b[0;34m=\u001b[0m\u001b[0mheader\u001b[0m\u001b[0;34m)\u001b[0m\u001b[0;34m\u001b[0m\u001b[0m\n\u001b[0m\u001b[1;32m     13\u001b[0m \u001b[0mpage\u001b[0m \u001b[0;34m=\u001b[0m \u001b[0murllib\u001b[0m\u001b[0;34m.\u001b[0m\u001b[0mrequest\u001b[0m\u001b[0;34m.\u001b[0m\u001b[0murlopen\u001b[0m\u001b[0;34m(\u001b[0m\u001b[0mreq\u001b[0m\u001b[0;34m)\u001b[0m\u001b[0;34m\u001b[0m\u001b[0m\n\u001b[1;32m     14\u001b[0m \u001b[0msoup\u001b[0m \u001b[0;34m=\u001b[0m \u001b[0mBeautifulSoup\u001b[0m\u001b[0;34m(\u001b[0m\u001b[0mpage\u001b[0m\u001b[0;34m)\u001b[0m\u001b[0;34m\u001b[0m\u001b[0m\n",
      "\u001b[0;31mNameError\u001b[0m: name 'urllib2' is not defined"
     ]
    }
   ],
   "source": [
    "\"\"\"\n",
    "Scrape a table from wikipedia using python. Allows for cells spanning multiple rows and/or columns. Outputs csv files for\n",
    "each table\n",
    "\"\"\"\n",
    "\n",
    "from bs4 import BeautifulSoup\n",
    "#import urllib2\n",
    "import os\n",
    "import codecs\n",
    "wiki = \"https://en.wikipedia.org/wiki/International_Phonetic_Alphabet_chart_for_English_dialects\"\n",
    "header = {'User-Agent': 'Mozilla/5.0'} #Needed to prevent 403 error on Wikipedia\n",
    "req = urllib2.Request(wiki,headers=header)\n",
    "page = urllib.request.urlopen(req)\n",
    "soup = BeautifulSoup(page)\n",
    " \n",
    "\n",
    "tables = soup.findAll(\"table\", { \"class\" : \"wikitable\" })\n",
    "\n",
    "# show tables\n",
    "for table in tables:\n",
    "    print (\"###############\")\n",
    "    print (table.text[:100])\n",
    "\n",
    "for tn in range(len(tables)):\n",
    "    table=tables[tn]\n",
    "\n",
    "    # preinit list of lists\n",
    "    rows=table.findAll(\"tr\")\n",
    "    row_lengths=[len(r.findAll(['th','td'])) for r in rows]\n",
    "    ncols=max(row_lengths)\n",
    "    nrows=len(rows)\n",
    "    data=[]\n",
    "    for i in range(nrows):\n",
    "        rowD=[]\n",
    "        for j in range(ncols):\n",
    "            rowD.append('')\n",
    "        data.append(rowD)\n",
    "    \n",
    "    # process html\n",
    "    for i in range(len(rows)):\n",
    "        row=rows[i]\n",
    "        rowD=[]\n",
    "        cells = row.findAll([\"td\",\"th\"])\n",
    "        for j in range(len(cells)):\n",
    "            cell=cells[j]\n",
    "            \n",
    "            #lots of cells span cols and rows so lets deal with that\n",
    "            cspan=int(cell.get('colspan',1))\n",
    "            rspan=int(cell.get('rowspan',1))\n",
    "            for k in range(rspan):\n",
    "                for l in range(cspan):\n",
    "                    data[i+k][j+l]+=cell.text\n",
    "    \n",
    "        data.append(rowD)\n",
    "        \n",
    "    # write data out\n",
    "    \n",
    "        page=os.path.split(wiki)[1]\n",
    "    fname='output_{}_t{}.csv'.format(page,tn)\n",
    "    f = codecs.open(fname, 'w')#,encoding='utf-8')\n",
    "    for i in range(nrows):\n",
    "        rowStr=','.join(data[i])\n",
    "        rowStr=rowStr.replace('\\n','')\n",
    "        print (rowStr)\n",
    "        rowStr=rowStr#.encode('unicode_escape')\n",
    "        f.write(rowStr+'\\n')      \n",
    "        \n",
    "        \n",
    "    f.close()\n",
    "        "
   ]
  },
  {
   "cell_type": "code",
   "execution_count": null,
   "metadata": {},
   "outputs": [],
   "source": []
  }
 ],
 "metadata": {
  "kernelspec": {
   "display_name": "Python 3",
   "language": "python",
   "name": "python3"
  },
  "language_info": {
   "codemirror_mode": {
    "name": "ipython",
    "version": 3
   },
   "file_extension": ".py",
   "mimetype": "text/x-python",
   "name": "python",
   "nbconvert_exporter": "python",
   "pygments_lexer": "ipython3",
   "version": "3.6.4"
  }
 },
 "nbformat": 4,
 "nbformat_minor": 2
}
